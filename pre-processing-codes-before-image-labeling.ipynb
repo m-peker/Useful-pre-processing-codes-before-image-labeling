{
 "cells": [
  {
   "cell_type": "markdown",
   "metadata": {},
   "source": [
    "# Useful pre-processing codes before image labeling"
   ]
  },
  {
   "cell_type": "markdown",
   "metadata": {},
   "source": [
    "### Resizing all pictures in a folder"
   ]
  },
  {
   "cell_type": "markdown",
   "metadata": {},
   "source": [
    "In the example below, all images in the folder will be resized to 640x480."
   ]
  },
  {
   "cell_type": "code",
   "execution_count": null,
   "metadata": {},
   "outputs": [],
   "source": [
    "import os\n",
    "from PIL import Image\n",
    "\n",
    "f = r'./folder_name'\n",
    "for file in os.listdir(f):\n",
    "    f_img = f+\"/\"+file\n",
    "    img = Image.open(f_img)\n",
    "    img = img.resize((640,480))\n",
    "    img.save(f_img)"
   ]
  },
  {
   "cell_type": "markdown",
   "metadata": {},
   "source": [
    "### Convert video to images"
   ]
  },
  {
   "cell_type": "code",
   "execution_count": null,
   "metadata": {},
   "outputs": [],
   "source": [
    "import cv2, os, re, sys\n",
    "\n",
    "# Save every n_th frame of a video as a JPEG\n",
    "def save_frames_as_jpeg(video_name, video_path, frame_step = 1):\n",
    "    capture = cv2.VideoCapture(video_path)\n",
    "    file_name = re.sub(r'\\..*', '', video_path)  # Get rid of extension\n",
    "    file_name = re.sub(r'(.*\\/)*', '', file_name)  # Get rid of directories\n",
    "\n",
    "    try:\n",
    "        os.makedirs(f'images/{file_name}')\n",
    "    except FileExistsError:\n",
    "        pass\n",
    "    total_frames = int(capture.get(cv2.CAP_PROP_FRAME_COUNT))\n",
    "    print(total_frames)\n",
    "    \n",
    "    # Iterate through frames and save each 'frame_step'^th frame\n",
    "    frame = 0\n",
    "    framename= 0\n",
    "    frame_step=5\n",
    "    success, image = capture.read()\n",
    "    while success:\n",
    "        success, image = capture.read()\n",
    "        if frame % frame_step ==0:\n",
    "            cv2.imwrite(f\"images/{file_name}/{framename}.jpg\", image)  # save frame as JPG file\n",
    "            framename=framename+1\n",
    "            show_progress(frame, total_frames, status=f'frame {frame}/{total_frames} from {video_path}')\n",
    "        frame += 1\n",
    "\n",
    "# Display progress bar\n",
    "def show_progress(count, total, status=''):\n",
    "    bar_len = 60\n",
    "    filled_len = int(round(bar_len * count / float(total)))\n",
    "    percents = round(100.0 * count / float(total), 1)\n",
    "    bar = '=' * filled_len + '-' * (bar_len - filled_len)\n",
    "    sys.stdout.write(f'[{bar}] {percents}% --- {status}\\r')\n",
    "    sys.stdout.flush()\n",
    "\n",
    "if __name__ == \"__main__\":\n",
    "    try:\n",
    "        step = int(sys.argv[1])\n",
    "    except IndexError:\n",
    "        print('No frame_step argument given. Setting frame_step to 1')\n",
    "        step = 1\n",
    "    except ValueError:\n",
    "        print('Invalid argument given. Expecting frame_step argument of type integer. Quitting...')\n",
    "        exit()\n",
    "\n",
    "    for root, dirs, files in os.walk(\"videos\"):\n",
    "        for name in files:\n",
    "            if name is '.DS_Store':\n",
    "                continue\n",
    "            path = os.path.join(root, name)\n",
    "            save_frames_as_jpeg(name, path, step)\n",
    "            print()"
   ]
  },
  {
   "cell_type": "markdown",
   "metadata": {},
   "source": [
    "### Cropping process"
   ]
  },
  {
   "cell_type": "markdown",
   "metadata": {},
   "source": [
    "Cropping is done according to the given values.\n",
    "\n",
    "cropped = image[y1:y2, x1:x2]"
   ]
  },
  {
   "attachments": {
    "crop.png": {
     "image/png": "[encoded data removed]"
    }
   },
   "cell_type": "markdown",
   "metadata": {},
   "source": [
    "![crop.png](attachment:crop.png)"
   ]
  },
  {
   "cell_type": "code",
   "execution_count": null,
   "metadata": {},
   "outputs": [],
   "source": [
    "import cv2\n",
    "import glob\n",
    "\n",
    "def process(filename, key):\n",
    "    # Read image\n",
    "    image = cv2.imread(filename)\n",
    "\n",
    "    cropped = image[45:480, 0:640]\n",
    "    cv2.imwrite('Images/cropped_{}.jpg'.format(key), cropped)\n",
    "\n",
    "# Grab all images in a given directory\n",
    "for (i, image_file) in enumerate(sorted(glob.glob('folder_name/*.jpg'))):\n",
    "    process(image_file, i)\n",
    "\n",
    "# Message\n",
    "print ('Done!')"
   ]
  },
  {
   "cell_type": "markdown",
   "metadata": {},
   "source": [
    "### Rename file names"
   ]
  },
  {
   "cell_type": "markdown",
   "metadata": {},
   "source": [
    "The code below renames all files in a folder."
   ]
  },
  {
   "cell_type": "code",
   "execution_count": null,
   "metadata": {},
   "outputs": [],
   "source": [
    "import os\n",
    "filePath = \"./folder_name/\"\n",
    "for fileName in os.listdir(filePath):\n",
    "        os.rename(filePath + \"/\" +fileName,filePath + \"/a_\" +fileName)"
   ]
  },
  {
   "cell_type": "markdown",
   "metadata": {},
   "source": [
    "### Changing the values in the .txt file"
   ]
  },
  {
   "cell_type": "markdown",
   "metadata": {},
   "source": [
    "Sometimes we want to change the value in a file such as a text box or Json file. For example, if you want to change the class from 0 to 1 in Yolo-Darknet format, the following code will be useful."
   ]
  },
  {
   "cell_type": "code",
   "execution_count": null,
   "metadata": {},
   "outputs": [],
   "source": [
    "for i in range(n): # n: Number of files in the folder\n",
    "    try:\n",
    "        filename=rf'./frame_{i}'\n",
    "        reading_file = open('{}.txt'.format(filename), \"r\")\n",
    "\n",
    "        new_file_content = \"\"\n",
    "        for line in reading_file:\n",
    "            stripped_line = line.strip()\n",
    "            new_line = stripped_line.replace(\"1 \", \"0 \")\n",
    "            new_file_content += new_line +\"\\n\"\n",
    "        reading_file.close()\n",
    "\n",
    "        writing_file = open(rf'./frame_{i}.txt', \"w\")\n",
    "        writing_file.write(new_file_content)\n",
    "        writing_file.close()\n",
    "    except:\n",
    "        pass"
   ]
  }
 ],
 "metadata": {
  "kernelspec": {
   "display_name": "Python 3",
   "language": "python",
   "name": "python3"
  },
  "language_info": {
   "codemirror_mode": {
    "name": "ipython",
    "version": 3
   },
   "file_extension": ".py",
   "mimetype": "text/x-python",
   "name": "python",
   "nbconvert_exporter": "python",
   "pygments_lexer": "ipython3",
   "version": "3.6.10"
  }
 },
 "nbformat": 4,
 "nbformat_minor": 4
}
